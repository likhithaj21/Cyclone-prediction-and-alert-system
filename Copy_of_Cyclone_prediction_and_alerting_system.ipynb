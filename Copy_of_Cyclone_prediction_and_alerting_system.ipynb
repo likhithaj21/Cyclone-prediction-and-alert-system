{
  "nbformat": 4,
  "nbformat_minor": 0,
  "metadata": {
    "colab": {
      "provenance": [],
      "authorship_tag": "ABX9TyNX1g/J21KguZqFHv3PsRa1"
    },
    "kernelspec": {
      "name": "python3",
      "display_name": "Python 3"
    },
    "language_info": {
      "name": "python"
    }
  },
  "cells": [
    {
      "cell_type": "code",
      "execution_count": 2,
      "metadata": {
        "id": "DzmTFmCfQKAA"
      },
      "outputs": [],
      "source": [
        "#Import Libraries\n",
        "import numpy as np\n",
        "import pandas as pd\n",
        "import matplotlib.pyplot as plt\n",
        "import seaborn as sns\n",
        "from sklearn.model_selection import train_test_split, GridSearchCV, cross_val_score\n",
        "from sklearn.ensemble import RandomForestClassifier\n",
        "from sklearn.metrics import classification_report, confusion_matrix, accuracy_score\n",
        "import pickle\n",
        "\n",
        "#Load Data\n",
        "data = pd.read_csv(\"Historical_Tropical_Storm_Tracks.csv\")\n",
        "\n",
        "#Clean Columns\n",
        "data.columns = data.columns.str.strip()\n",
        "\n",
        "#Drop unnecessary columns\n",
        "drop_cols = [\"index\", \"FID\", \"AD_TIME\", \"BTID\", \"NAME\", \"BASIN\", \"Shape_Leng\", \"DAY\"]\n",
        "data = data.drop(columns=drop_cols, errors=\"ignore\")\n",
        "\n",
        "#Handle missing values\n",
        "data = data.dropna(subset=[\"CAT\", \"LAT\", \"LONG\", \"WIND_KTS\", \"PRESSURE\"])\n",
        "\n"
      ]
    }
  ]
}